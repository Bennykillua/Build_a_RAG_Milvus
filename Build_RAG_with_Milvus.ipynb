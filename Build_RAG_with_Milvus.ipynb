{
  "cells": [
    {
      "cell_type": "markdown",
      "metadata": {
        "id": "kzER9cg49Vin"
      },
      "source": [
        "<a href=\"https://github.com/Bennykillua/Build_a_RAG_Milvus/blob/main/build_RAG_with_milvus.ipynb\" target=\"_parent\"><img src=\"https://colab.research.google.com/assets/colab-badge.svg\" alt=\"Open In Colab\"/></a>"
      ]
    },
    {
      "cell_type": "markdown",
      "metadata": {
        "id": "4mWQJ1s0-fuE"
      },
      "source": [
        "## Preparation\n",
        "### Dependencies and Environment"
      ]
    },
    {
      "cell_type": "code",
      "execution_count": null,
      "metadata": {
        "colab": {
          "base_uri": "https://localhost:8080/"
        },
        "id": "PEJA285B9UZ1",
        "outputId": "209fc02a-e7a3-4ea3-adb5-f61487b4bab3"
      },
      "outputs": [
        {
          "name": "stdout",
          "output_type": "stream",
          "text": [
            "Collecting pymilvus\n",
            "  Downloading pymilvus-2.4.7-py3-none-any.whl.metadata (5.6 kB)\n",
            "Collecting openai\n",
            "  Downloading openai-1.50.1-py3-none-any.whl.metadata (24 kB)\n",
            "Requirement already satisfied: requests in /usr/local/lib/python3.10/dist-packages (2.32.3)\n",
            "Requirement already satisfied: tqdm in /usr/local/lib/python3.10/dist-packages (4.66.5)\n",
            "Requirement already satisfied: setuptools>69 in /usr/local/lib/python3.10/dist-packages (from pymilvus) (71.0.4)\n",
            "Requirement already satisfied: grpcio>=1.49.1 in /usr/local/lib/python3.10/dist-packages (from pymilvus) (1.64.1)\n",
            "Requirement already satisfied: protobuf>=3.20.0 in /usr/local/lib/python3.10/dist-packages (from pymilvus) (3.20.3)\n",
            "Collecting environs<=9.5.0 (from pymilvus)\n",
            "  Downloading environs-9.5.0-py2.py3-none-any.whl.metadata (14 kB)\n",
            "Collecting ujson>=2.0.0 (from pymilvus)\n",
            "  Downloading ujson-5.10.0-cp310-cp310-manylinux_2_17_x86_64.manylinux2014_x86_64.whl.metadata (9.3 kB)\n",
            "Requirement already satisfied: pandas>=1.2.4 in /usr/local/lib/python3.10/dist-packages (from pymilvus) (2.1.4)\n",
            "Collecting milvus-lite<2.5.0,>=2.4.0 (from pymilvus)\n",
            "  Downloading milvus_lite-2.4.10-py3-none-manylinux2014_x86_64.whl.metadata (9.0 kB)\n",
            "Requirement already satisfied: anyio<5,>=3.5.0 in /usr/local/lib/python3.10/dist-packages (from openai) (3.7.1)\n",
            "Requirement already satisfied: distro<2,>=1.7.0 in /usr/lib/python3/dist-packages (from openai) (1.7.0)\n",
            "Collecting httpx<1,>=0.23.0 (from openai)\n",
            "  Downloading httpx-0.27.2-py3-none-any.whl.metadata (7.1 kB)\n",
            "Collecting jiter<1,>=0.4.0 (from openai)\n",
            "  Downloading jiter-0.5.0-cp310-cp310-manylinux_2_17_x86_64.manylinux2014_x86_64.whl.metadata (3.6 kB)\n",
            "Requirement already satisfied: pydantic<3,>=1.9.0 in /usr/local/lib/python3.10/dist-packages (from openai) (2.9.2)\n",
            "Requirement already satisfied: sniffio in /usr/local/lib/python3.10/dist-packages (from openai) (1.3.1)\n",
            "Requirement already satisfied: typing-extensions<5,>=4.11 in /usr/local/lib/python3.10/dist-packages (from openai) (4.12.2)\n",
            "Requirement already satisfied: charset-normalizer<4,>=2 in /usr/local/lib/python3.10/dist-packages (from requests) (3.3.2)\n",
            "Requirement already satisfied: idna<4,>=2.5 in /usr/local/lib/python3.10/dist-packages (from requests) (3.10)\n",
            "Requirement already satisfied: urllib3<3,>=1.21.1 in /usr/local/lib/python3.10/dist-packages (from requests) (2.2.3)\n",
            "Requirement already satisfied: certifi>=2017.4.17 in /usr/local/lib/python3.10/dist-packages (from requests) (2024.8.30)\n",
            "Requirement already satisfied: exceptiongroup in /usr/local/lib/python3.10/dist-packages (from anyio<5,>=3.5.0->openai) (1.2.2)\n",
            "Collecting marshmallow>=3.0.0 (from environs<=9.5.0->pymilvus)\n",
            "  Downloading marshmallow-3.22.0-py3-none-any.whl.metadata (7.2 kB)\n",
            "Collecting python-dotenv (from environs<=9.5.0->pymilvus)\n",
            "  Downloading python_dotenv-1.0.1-py3-none-any.whl.metadata (23 kB)\n",
            "Collecting httpcore==1.* (from httpx<1,>=0.23.0->openai)\n",
            "  Downloading httpcore-1.0.5-py3-none-any.whl.metadata (20 kB)\n",
            "Collecting h11<0.15,>=0.13 (from httpcore==1.*->httpx<1,>=0.23.0->openai)\n",
            "  Downloading h11-0.14.0-py3-none-any.whl.metadata (8.2 kB)\n",
            "Requirement already satisfied: numpy<2,>=1.22.4 in /usr/local/lib/python3.10/dist-packages (from pandas>=1.2.4->pymilvus) (1.26.4)\n",
            "Requirement already satisfied: python-dateutil>=2.8.2 in /usr/local/lib/python3.10/dist-packages (from pandas>=1.2.4->pymilvus) (2.8.2)\n",
            "Requirement already satisfied: pytz>=2020.1 in /usr/local/lib/python3.10/dist-packages (from pandas>=1.2.4->pymilvus) (2024.2)\n",
            "Requirement already satisfied: tzdata>=2022.1 in /usr/local/lib/python3.10/dist-packages (from pandas>=1.2.4->pymilvus) (2024.1)\n",
            "Requirement already satisfied: annotated-types>=0.6.0 in /usr/local/lib/python3.10/dist-packages (from pydantic<3,>=1.9.0->openai) (0.7.0)\n",
            "Requirement already satisfied: pydantic-core==2.23.4 in /usr/local/lib/python3.10/dist-packages (from pydantic<3,>=1.9.0->openai) (2.23.4)\n",
            "Requirement already satisfied: packaging>=17.0 in /usr/local/lib/python3.10/dist-packages (from marshmallow>=3.0.0->environs<=9.5.0->pymilvus) (24.1)\n",
            "Requirement already satisfied: six>=1.5 in /usr/local/lib/python3.10/dist-packages (from python-dateutil>=2.8.2->pandas>=1.2.4->pymilvus) (1.16.0)\n",
            "Downloading pymilvus-2.4.7-py3-none-any.whl (198 kB)\n",
            "\u001b[2K   \u001b[90m━━━━━━━━━━━━━━━━━━━━━━━━━━━━━━━━━━━━━━━━\u001b[0m \u001b[32m198.6/198.6 kB\u001b[0m \u001b[31m8.0 MB/s\u001b[0m eta \u001b[36m0:00:00\u001b[0m\n",
            "\u001b[?25hDownloading openai-1.50.1-py3-none-any.whl (378 kB)\n",
            "\u001b[2K   \u001b[90m━━━━━━━━━━━━━━━━━━━━━━━━━━━━━━━━━━━━━━━━\u001b[0m \u001b[32m378.9/378.9 kB\u001b[0m \u001b[31m13.1 MB/s\u001b[0m eta \u001b[36m0:00:00\u001b[0m\n",
            "\u001b[?25hDownloading environs-9.5.0-py2.py3-none-any.whl (12 kB)\n",
            "Downloading httpx-0.27.2-py3-none-any.whl (76 kB)\n",
            "\u001b[2K   \u001b[90m━━━━━━━━━━━━━━━━━━━━━━━━━━━━━━━━━━━━━━━━\u001b[0m \u001b[32m76.4/76.4 kB\u001b[0m \u001b[31m4.4 MB/s\u001b[0m eta \u001b[36m0:00:00\u001b[0m\n",
            "\u001b[?25hDownloading httpcore-1.0.5-py3-none-any.whl (77 kB)\n",
            "\u001b[2K   \u001b[90m━━━━━━━━━━━━━━━━━━━━━━━━━━━━━━━━━━━━━━━━\u001b[0m \u001b[32m77.9/77.9 kB\u001b[0m \u001b[31m5.1 MB/s\u001b[0m eta \u001b[36m0:00:00\u001b[0m\n",
            "\u001b[?25hDownloading jiter-0.5.0-cp310-cp310-manylinux_2_17_x86_64.manylinux2014_x86_64.whl (318 kB)\n",
            "\u001b[2K   \u001b[90m━━━━━━━━━━━━━━━━━━━━━━━━━━━━━━━━━━━━━━━━\u001b[0m \u001b[32m318.9/318.9 kB\u001b[0m \u001b[31m15.6 MB/s\u001b[0m eta \u001b[36m0:00:00\u001b[0m\n",
            "\u001b[?25hDownloading milvus_lite-2.4.10-py3-none-manylinux2014_x86_64.whl (49.4 MB)\n",
            "\u001b[2K   \u001b[90m━━━━━━━━━━━━━━━━━━━━━━━━━━━━━━━━━━━━━━━━\u001b[0m \u001b[32m49.4/49.4 MB\u001b[0m \u001b[31m16.0 MB/s\u001b[0m eta \u001b[36m0:00:00\u001b[0m\n",
            "\u001b[?25hDownloading ujson-5.10.0-cp310-cp310-manylinux_2_17_x86_64.manylinux2014_x86_64.whl (53 kB)\n",
            "\u001b[2K   \u001b[90m━━━━━━━━━━━━━━━━━━━━━━━━━━━━━━━━━━━━━━━━\u001b[0m \u001b[32m53.6/53.6 kB\u001b[0m \u001b[31m2.5 MB/s\u001b[0m eta \u001b[36m0:00:00\u001b[0m\n",
            "\u001b[?25hDownloading marshmallow-3.22.0-py3-none-any.whl (49 kB)\n",
            "\u001b[2K   \u001b[90m━━━━━━━━━━━━━━━━━━━━━━━━━━━━━━━━━━━━━━━━\u001b[0m \u001b[32m49.3/49.3 kB\u001b[0m \u001b[31m2.9 MB/s\u001b[0m eta \u001b[36m0:00:00\u001b[0m\n",
            "\u001b[?25hDownloading python_dotenv-1.0.1-py3-none-any.whl (19 kB)\n",
            "Downloading h11-0.14.0-py3-none-any.whl (58 kB)\n",
            "\u001b[2K   \u001b[90m━━━━━━━━━━━━━━━━━━━━━━━━━━━━━━━━━━━━━━━━\u001b[0m \u001b[32m58.3/58.3 kB\u001b[0m \u001b[31m4.0 MB/s\u001b[0m eta \u001b[36m0:00:00\u001b[0m\n",
            "\u001b[?25hInstalling collected packages: ujson, python-dotenv, milvus-lite, marshmallow, jiter, h11, httpcore, environs, pymilvus, httpx, openai\n",
            "Successfully installed environs-9.5.0 h11-0.14.0 httpcore-1.0.5 httpx-0.27.2 jiter-0.5.0 marshmallow-3.22.0 milvus-lite-2.4.10 openai-1.50.1 pymilvus-2.4.7 python-dotenv-1.0.1 ujson-5.10.0\n"
          ]
        }
      ],
      "source": [
        "! pip install --upgrade pymilvus openai requests tqdm"
      ]
    },
    {
      "cell_type": "code",
      "execution_count": null,
      "metadata": {
        "id": "IR5hTZAw-l9H"
      },
      "outputs": [],
      "source": [
        "import os\n",
        "\n",
        "os.environ[\"OPENAI_API_KEY\"] = 'hello'"
      ]
    },
    {
      "cell_type": "markdown",
      "metadata": {
        "id": "jo8a9isx-yxo"
      },
      "source": [
        "## Preparing the Data and Embedding Model"
      ]
    },
    {
      "cell_type": "code",
      "execution_count": null,
      "metadata": {
        "colab": {
          "base_uri": "https://localhost:8080/"
        },
        "id": "CJ4tpBZt-oB7",
        "outputId": "40ec0519-f05e-4eab-bec3-272722416056"
      },
      "outputs": [
        {
          "name": "stdout",
          "output_type": "stream",
          "text": [
            "Downloaded: appendix_a_basic_components.md\n",
            "Downloaded: appendix_b_api_reference.md\n",
            "Downloaded: appendix_c_system_configurations.md\n",
            "Downloaded: appendix_d_error_code.md\n",
            "Downloaded: appendix_e_statistics.md\n",
            "Downloaded: chap01_system_overview.md\n",
            "Downloaded: chap02_schema.md\n",
            "Downloaded: chap03_index_service.md\n",
            "Downloaded: chap04_message_stream.md\n",
            "Downloaded: chap05_proxy.md\n",
            "Downloaded: chap06_root_coordinator.md\n",
            "Downloaded: chap07_query_coordinator.md\n",
            "Downloaded: chap08_binlog.md\n",
            "Downloaded: chap09_data_coord.md\n",
            "Downloaded: developer_guides.md\n",
            "Downloaded: how-guarantee-ts-works-cn.md\n",
            "Downloaded: how-guarantee-ts-works.md\n",
            "Downloaded: how_to_develop_with_local_milvus_proto.md\n",
            "Downloaded: proxy-reduce-cn.md\n",
            "Downloaded: proxy-reduce.md\n"
          ]
        }
      ],
      "source": [
        "import requests\n",
        "import os\n",
        "\n",
        "# Base URL for GitHub API to fetch file information\n",
        "api_url = \"https://api.github.com/repos/milvus-io/milvus/contents/docs/developer_guides\"\n",
        "raw_base_url = \"https://raw.githubusercontent.com/milvus-io/milvus/master/docs/developer_guides/\"\n",
        "docs_path = \"milvus_docs\"\n",
        "\n",
        "# Create a folder to save the downloaded documentation files\n",
        "if not os.path.exists(docs_path):\n",
        "    os.makedirs(docs_path)\n",
        "\n",
        "# Send a request to GitHub API to list all files in the developer_guides directory\n",
        "response = requests.get(api_url)\n",
        "\n",
        "# Check if the request was successful\n",
        "if response.status_code == 200:\n",
        "    files = response.json()\n",
        "\n",
        "    # Loop through the files and filter only markdown files\n",
        "    for file in files:\n",
        "        if file['name'].endswith('.md'):  # Only select markdown files\n",
        "            file_url = raw_base_url + file['name']\n",
        "\n",
        "            # Download each markdown file\n",
        "            file_response = requests.get(file_url)\n",
        "            if file_response.status_code == 200:\n",
        "                # Save the content to a local markdown file\n",
        "                with open(os.path.join(docs_path, file['name']), \"wb\") as f:\n",
        "                    f.write(file_response.content)\n",
        "                print(f\"Downloaded: {file['name']}\")\n",
        "            else:\n",
        "                print(f\"Failed to download: {file_url} (Status code: {file_response.status_code})\")\n",
        "else:\n",
        "    print(f\"Failed to fetch file list from {api_url} (Status code: {response.status_code})\")"
      ]
    },
    {
      "cell_type": "code",
      "execution_count": null,
      "metadata": {
        "id": "sq_h0OdsAO6M"
      },
      "outputs": [],
      "source": [
        "from glob import glob\n",
        "\n",
        "text_lines = []\n",
        "\n",
        "for file_path in glob(os.path.join(docs_path, \"*.md\"), recursive=True):\n",
        "    with open(file_path, \"r\", encoding=\"utf-8\") as file:\n",
        "        file_text = file.read()\n",
        "\n",
        "    # Split text at each heading (assuming # for major sections)\n",
        "    text_lines += file_text.split(\"# \")"
      ]
    },
    {
      "cell_type": "markdown",
      "metadata": {
        "id": "WC-_qS_9-4hw"
      },
      "source": [
        "## Prepare the Embedding Model with OpenAI"
      ]
    },
    {
      "cell_type": "code",
      "execution_count": null,
      "metadata": {
        "id": "tbY6ibXB-1iZ"
      },
      "outputs": [],
      "source": [
        "from openai import OpenAI\n",
        "\n",
        "openai_client = OpenAI()"
      ]
    },
    {
      "cell_type": "code",
      "execution_count": null,
      "metadata": {
        "id": "7FIAlbHq-6zG"
      },
      "outputs": [],
      "source": [
        "def emb_text(text):\n",
        "    return (\n",
        "        openai_client.embeddings.create(input=text, model=\"text-embedding-3-small\")\n",
        "        .data[0]\n",
        "        .embedding\n",
        "    )"
      ]
    },
    {
      "cell_type": "markdown",
      "metadata": {
        "id": "QqejOCWH--qs"
      },
      "source": [
        "## Loading Data into Milvus"
      ]
    },
    {
      "cell_type": "code",
      "execution_count": null,
      "metadata": {
        "colab": {
          "base_uri": "https://localhost:8080/"
        },
        "id": "GR7DCIKg-8Wc",
        "outputId": "4c502cce-3ece-4d58-a48a-48c95cf4d9ca"
      },
      "outputs": [
        {
          "name": "stdout",
          "output_type": "stream",
          "text": [
            "Requirement already satisfied: pymilvus in /usr/local/lib/python3.10/dist-packages (2.4.7)\n",
            "Requirement already satisfied: setuptools>69 in /usr/local/lib/python3.10/dist-packages (from pymilvus) (71.0.4)\n",
            "Requirement already satisfied: grpcio>=1.49.1 in /usr/local/lib/python3.10/dist-packages (from pymilvus) (1.64.1)\n",
            "Requirement already satisfied: protobuf>=3.20.0 in /usr/local/lib/python3.10/dist-packages (from pymilvus) (3.20.3)\n",
            "Requirement already satisfied: environs<=9.5.0 in /usr/local/lib/python3.10/dist-packages (from pymilvus) (9.5.0)\n",
            "Requirement already satisfied: ujson>=2.0.0 in /usr/local/lib/python3.10/dist-packages (from pymilvus) (5.10.0)\n",
            "Requirement already satisfied: pandas>=1.2.4 in /usr/local/lib/python3.10/dist-packages (from pymilvus) (2.1.4)\n",
            "Requirement already satisfied: milvus-lite<2.5.0,>=2.4.0 in /usr/local/lib/python3.10/dist-packages (from pymilvus) (2.4.10)\n",
            "Requirement already satisfied: marshmallow>=3.0.0 in /usr/local/lib/python3.10/dist-packages (from environs<=9.5.0->pymilvus) (3.22.0)\n",
            "Requirement already satisfied: python-dotenv in /usr/local/lib/python3.10/dist-packages (from environs<=9.5.0->pymilvus) (1.0.1)\n",
            "Requirement already satisfied: tqdm in /usr/local/lib/python3.10/dist-packages (from milvus-lite<2.5.0,>=2.4.0->pymilvus) (4.66.5)\n",
            "Requirement already satisfied: numpy<2,>=1.22.4 in /usr/local/lib/python3.10/dist-packages (from pandas>=1.2.4->pymilvus) (1.26.4)\n",
            "Requirement already satisfied: python-dateutil>=2.8.2 in /usr/local/lib/python3.10/dist-packages (from pandas>=1.2.4->pymilvus) (2.8.2)\n",
            "Requirement already satisfied: pytz>=2020.1 in /usr/local/lib/python3.10/dist-packages (from pandas>=1.2.4->pymilvus) (2024.2)\n",
            "Requirement already satisfied: tzdata>=2022.1 in /usr/local/lib/python3.10/dist-packages (from pandas>=1.2.4->pymilvus) (2024.1)\n",
            "Requirement already satisfied: packaging>=17.0 in /usr/local/lib/python3.10/dist-packages (from marshmallow>=3.0.0->environs<=9.5.0->pymilvus) (24.1)\n",
            "Requirement already satisfied: six>=1.5 in /usr/local/lib/python3.10/dist-packages (from python-dateutil>=2.8.2->pandas>=1.2.4->pymilvus) (1.16.0)\n"
          ]
        }
      ],
      "source": [
        "pip install -U pymilvus"
      ]
    },
    {
      "cell_type": "markdown",
      "metadata": {
        "id": "PW4OXvbk_TgY"
      },
      "source": [
        "## Create the Collection"
      ]
    },
    {
      "cell_type": "code",
      "execution_count": null,
      "metadata": {
        "colab": {
          "base_uri": "https://localhost:8080/"
        },
        "id": "dJ43StFE_CUx",
        "outputId": "772463dd-c808-46bc-a41b-3bf181225e0a"
      },
      "outputs": [
        {
          "name": "stderr",
          "output_type": "stream",
          "text": [
            "DEBUG:pymilvus.milvus_client.milvus_client:Created new connection using: c0e007eb7b19405f84c3907ae4fd22fb\n"
          ]
        }
      ],
      "source": [
        "from pymilvus import MilvusClient\n",
        "\n",
        "milvus_client = MilvusClient(uri=\"./milvus_demo.db\")\n",
        "\n",
        "collection_name = \"my_rag_collection\""
      ]
    },
    {
      "cell_type": "code",
      "execution_count": null,
      "metadata": {
        "colab": {
          "base_uri": "https://localhost:8080/"
        },
        "id": "CFZGlI8Q_EcR",
        "outputId": "0e227c2f-152b-45b0-d0b1-be1dd6e12377"
      },
      "outputs": [
        {
          "name": "stdout",
          "output_type": "stream",
          "text": [
            "1536\n",
            "[0.009889289736747742, -0.005578675772994757, 0.00683477520942688, -0.03805781528353691, -0.01824733428657055, -0.04121600463986397, -0.007636285852640867, 0.03225184231996536, 0.018949154764413834, 9.352207416668534e-05]\n"
          ]
        }
      ],
      "source": [
        "test_embedding = emb_text(\"This is a test\")\n",
        "embedding_dim = len(test_embedding)\n",
        "print(embedding_dim)\n",
        "print(test_embedding[:10])"
      ]
    },
    {
      "cell_type": "markdown",
      "metadata": {
        "id": "q8q4zbtS_bSa"
      },
      "source": [
        "Check if the collection already exists and drop it if it does."
      ]
    },
    {
      "cell_type": "code",
      "execution_count": null,
      "metadata": {
        "id": "siQQ7DCFL4_C"
      },
      "outputs": [],
      "source": [
        "if milvus_client.has_collection(collection_name):\n",
        "    milvus_client.drop_collection(collection_name)"
      ]
    },
    {
      "cell_type": "code",
      "execution_count": null,
      "metadata": {
        "colab": {
          "base_uri": "https://localhost:8080/"
        },
        "id": "wngKVtpr_KT_",
        "outputId": "367f59f2-2fa1-437d-e321-ae34cd224670"
      },
      "outputs": [
        {
          "name": "stderr",
          "output_type": "stream",
          "text": [
            "DEBUG:pymilvus.milvus_client.milvus_client:Successfully created collection: my_rag_collection\n",
            "DEBUG:pymilvus.milvus_client.milvus_client:Successfully created an index on collection: my_rag_collection\n"
          ]
        }
      ],
      "source": [
        "milvus_client.create_collection(\n",
        "    collection_name=collection_name,\n",
        "    dimension=embedding_dim,\n",
        "    metric_type=\"IP\",  # Inner product distance\n",
        "    consistency_level=\"Strong\",  # Strong consistency level\n",
        ")"
      ]
    },
    {
      "cell_type": "markdown",
      "metadata": {
        "id": "kOm9iiYU_kCz"
      },
      "source": [
        "### Insert data\n",
        "Iterate through the text lines, create embeddings, and then insert the data into Milvus.\n",
        "\n",
        "Here is a new field `text`, which is a non-defined field in the collection schema. It will be automatically added to the reserved JSON dynamic field, which can be treated as a normal field at a high level."
      ]
    },
    {
      "cell_type": "code",
      "execution_count": null,
      "metadata": {
        "colab": {
          "base_uri": "https://localhost:8080/"
        },
        "id": "qeUB5kCw_ge-",
        "outputId": "23afdc51-be57-430a-a5b8-0a5a703b0a81"
      },
      "outputs": [
        {
          "name": "stderr",
          "output_type": "stream",
          "text": [
            "Creating embeddings: 100%|██████████| 246/246 [00:54<00:00,  4.52it/s]\n"
          ]
        },
        {
          "data": {
            "text/plain": [
              "{'insert_count': 246, 'ids': [0, 1, 2, 3, 4, 5, 6, 7, 8, 9, 10, 11, 12, 13, 14, 15, 16, 17, 18, 19, 20, 21, 22, 23, 24, 25, 26, 27, 28, 29, 30, 31, 32, 33, 34, 35, 36, 37, 38, 39, 40, 41, 42, 43, 44, 45, 46, 47, 48, 49, 50, 51, 52, 53, 54, 55, 56, 57, 58, 59, 60, 61, 62, 63, 64, 65, 66, 67, 68, 69, 70, 71, 72, 73, 74, 75, 76, 77, 78, 79, 80, 81, 82, 83, 84, 85, 86, 87, 88, 89, 90, 91, 92, 93, 94, 95, 96, 97, 98, 99, 100, 101, 102, 103, 104, 105, 106, 107, 108, 109, 110, 111, 112, 113, 114, 115, 116, 117, 118, 119, 120, 121, 122, 123, 124, 125, 126, 127, 128, 129, 130, 131, 132, 133, 134, 135, 136, 137, 138, 139, 140, 141, 142, 143, 144, 145, 146, 147, 148, 149, 150, 151, 152, 153, 154, 155, 156, 157, 158, 159, 160, 161, 162, 163, 164, 165, 166, 167, 168, 169, 170, 171, 172, 173, 174, 175, 176, 177, 178, 179, 180, 181, 182, 183, 184, 185, 186, 187, 188, 189, 190, 191, 192, 193, 194, 195, 196, 197, 198, 199, 200, 201, 202, 203, 204, 205, 206, 207, 208, 209, 210, 211, 212, 213, 214, 215, 216, 217, 218, 219, 220, 221, 222, 223, 224, 225, 226, 227, 228, 229, 230, 231, 232, 233, 234, 235, 236, 237, 238, 239, 240, 241, 242, 243, 244, 245], 'cost': 0}"
            ]
          },
          "execution_count": 13,
          "metadata": {},
          "output_type": "execute_result"
        }
      ],
      "source": [
        "from tqdm import tqdm\n",
        "\n",
        "data = []\n",
        "\n",
        "for i, line in enumerate(tqdm(text_lines, desc=\"Creating embeddings\")):\n",
        "    data.append({\"id\": i, \"vector\": emb_text(line), \"text\": line})\n",
        "\n",
        "milvus_client.insert(collection_name=collection_name, data=data)"
      ]
    },
    {
      "cell_type": "markdown",
      "metadata": {
        "id": "ZiwgbaAcAcrA"
      },
      "source": [
        "## Build RAG"
      ]
    },
    {
      "cell_type": "code",
      "execution_count": null,
      "metadata": {
        "id": "3psG1rS3_nLW"
      },
      "outputs": [],
      "source": [
        "question = \"What are the key features of Milvus that make it suitable for handling vector databases in AI applications?\""
      ]
    },
    {
      "cell_type": "code",
      "execution_count": null,
      "metadata": {
        "id": "fRZDqxvCAsHw"
      },
      "outputs": [],
      "source": [
        "search_res = milvus_client.search(\n",
        "    collection_name=collection_name,\n",
        "    data=[\n",
        "        emb_text(question)\n",
        "    ],  # Use the `emb_text` function to convert the question to an embedding vector\n",
        "    limit=3,  # Return top 3 results\n",
        "    search_params={\"metric_type\": \"IP\", \"params\": {}},  # Inner product distance\n",
        "    output_fields=[\"text\"],  # Return the text field\n",
        ")"
      ]
    },
    {
      "cell_type": "code",
      "execution_count": null,
      "metadata": {
        "colab": {
          "base_uri": "https://localhost:8080/"
        },
        "id": "CoF1DKStAwGH",
        "outputId": "3404a745-a7e3-4bf9-c433-d002c4a94382"
      },
      "outputs": [
        {
          "name": "stdout",
          "output_type": "stream",
          "text": [
            "[\n",
            "    [\n",
            "        \"1. System Overview\\n\\nIn this section, we sketch the system design of Milvus, including the data model, data organization, architecture, and state synchronization.\\n\\n###\",\n",
            "        0.5789735913276672\n",
            "    ],\n",
            "    [\n",
            "        \"1.1 Data Model\\n\\nMilvus exposes the following set of data features to applications:\\n\\n- a data model based on schematized relational tables, in that rows must have primary keys,\\n\\n- a query language specifies data definition, data manipulation, and data query, where data definition includes create, drop, and data manipulation includes insert, upsert, delete, and data query falls into three types, primary key search, approximate nearest neighbor search (ANNS), ANNS with predicates.\\n\\nThe requests' execution order is strictly in accordance with their issue-time order. We take Proxy's issue time as a request's issue time. For a batch request, all its sub-requests share the same issue time. In cases there are multiple proxies, issue time from different proxies are regarded as coming from a central clock.\\n\\nThe transaction is currently not supported by Milvus.\\n\\nA batch insert/delete is guaranteed to become visible atomically.\\n\\n###\",\n",
            "        0.555813193321228\n",
            "    ],\n",
            "    [\n",
            "        \"Milvus \\u65f6\\u949f\\u673a\\u5236\\n\\n\\u50cf\\u5927\\u591a\\u6570\\u5206\\u5e03\\u5f0f\\u7cfb\\u7edf\\u4e00\\u6837\\uff0cMilvus \\u4f1a\\u4e3a\\u6bcf\\u4e00\\u6761\\u8fdb\\u5165\\u7cfb\\u7edf\\u7684\\u8bb0\\u5f55\\u5206\\u914d\\u4e00\\u4e2a\\u65f6\\u95f4\\u6233\\u3002\\u4e0e\\u6b64\\u540c\\u65f6\\uff0cMilvus\\n\\u662f\\u4e00\\u4e2a\\u5b58\\u50a8\\u8ba1\\u7b97\\u5206\\u79bb\\u7684\\u7cfb\\u7edf\\uff0c\\u6570\\u636e\\u6301\\u4e45\\u5316\\u8d1f\\u8f7d\\u7531 DataNodes \\u627f\\u62c5\\uff0c\\u6700\\u7ec8\\u4f1a\\u843d\\u76d8\\u5230 MinIO/S3 \\u4e4b\\u7c7b\\u7684\\n\\u5206\\u5e03\\u5f0f\\u5bf9\\u8c61\\u5b58\\u50a8\\u4e2d\\u3002Search \\u4e4b\\u7c7b\\u7684\\u8ba1\\u7b97\\u4efb\\u52a1\\u7531 QueryNodes \\u627f\\u62c5\\uff0c\\u8ba1\\u7b97\\u94fe\\u8def\\u4f1a\\u540c\\u65f6\\u5904\\u7406\\u4e24\\u7c7b\\u6570\\u636e\\u2014\\u2014\\n\\u6279\\u5f0f\\u6570\\u636e\\u4ee5\\u53ca\\u6d41\\u5f0f\\u6570\\u636e\\u3002\\u5176\\u4e2d\\uff0c\\u6279\\u5f0f\\u6570\\u636e\\u4e0d\\u4f1a\\u518d\\u88ab\\u66f4\\u6539\\uff0cSearch \\u8bf7\\u6c42\\u4f1a\\u770b\\u5230\\u6279\\u5f0f\\u6570\\u636e\\u91cc\\u9762\\u7684\\u6240\\u6709\\u6570\\u636e\\u3002\\nQueryNodes \\u548c DataNodes \\u901a\\u8fc7\\u540c\\u4e00\\u4e2a\\u8ba2\\u9605\\u673a\\u5236\\u6d88\\u8d39\\u7528\\u6237\\u7684\\u63d2\\u5165\\u8bf7\\u6c42\\uff0c\\u8fd9\\u4e9b\\u6784\\u6210\\u4e86\\u6d41\\u5f0f\\u6570\\u636e\\u3002\\u7531\\u4e8e\\n\\u5b58\\u5728\\u7f51\\u7edc\\u5ef6\\u8fdf\\uff0cQueryNodes \\u5f80\\u5f80\\u4e0d\\u4f1a\\u6301\\u6709\\u6700\\u65b0\\u7684\\u6d41\\u5f0f\\u6570\\u636e\\u3002\\u5982\\u679c\\u6ca1\\u6709\\u5176\\u4ed6\\u4fdd\\u969c\\uff0c\\u5728\\u6d41\\u5f0f\\u6570\\u636e\\u4e0a\\u76f4\\u63a5\\u505a\\nSearch \\u4f1a\\u635f\\u5931\\u8bb8\\u591a\\u672a\\u6d88\\u8d39\\u7684\\u6570\\u636e\\uff0c\\u964d\\u4f4e\\u67e5\\u8be2\\u7cbe\\u5ea6\\uff0c\\u8fd9\\u4e2a\\u65f6\\u5019 GuaranteeTs \\u5c31\\u6d3e\\u4e0a\\u7528\\u573a\\u4e86\\u3002\\n\\nMilvus \\u901a\\u8fc7\\u65f6\\u95f4\\u6233\\u6c34\\u5370\\u6765\\u4fdd\\u969c\\u8bfb\\u94fe\\u8def\\u7684\\u4e00\\u81f4\\u6027\\uff0c\\u5982\\u4e0b\\u56fe\\u6240\\u793a\\uff0c\\u5728\\u5f80\\u6d88\\u606f\\u961f\\u5217\\u63d2\\u5165\\u6570\\u636e\\u65f6\\uff0c\\nMilvus \\u4e0d\\u5149\\u4f1a\\u4e3a\\u8fd9\\u4e9b\\u63d2\\u5165\\u8bb0\\u5f55\\u6253\\u4e0a\\u65f6\\u95f4\\u6233\\uff0c\\u8fd8\\u4f1a\\u4e0d\\u95f4\\u65ad\\u5730\\u63d2\\u5165\\u540c\\u6b65\\u65f6\\u95f4\\u6233\\uff0c\\u4ee5\\u56fe\\u4e2d\\u540c\\u6b65\\u65f6\\u95f4\\u6233\\nsyncTs1 \\u4e3a\\u4f8b\\uff0c\\u5f53\\u4e0b\\u6e38\\u6d88\\u8d39\\u8005\\uff08\\u6bd4\\u5982QueryNodes\\uff09\\u770b\\u5230 syncTs1\\uff0c\\u90a3\\u4e48\\u610f\\u5473\\u7740 syncTs1 \\u4ee5\\u524d\\u7684\\n\\u6570\\u636e\\u5df2\\u7ecf\\u5168\\u90e8\\u88ab\\u6d88\\u8d39\\u4e86\\uff0c\\u6362\\u53e5\\u8bdd\\u8bf4\\uff0c\\u6bd4 syncTs1 \\u65f6\\u95f4\\u6233\\u8fd8\\u5c0f\\u7684\\u63d2\\u5165\\u8bb0\\u5f55\\u4e0d\\u4f1a\\u518d\\u51fa\\u73b0\\u5728\\u6d88\\u606f\\u961f\\u5217\\u4e2d\\u3002\\n\\u5f53\\u7136\\u4e86\\uff0c\\u6709\\u7684\\u8bdd\\uff0c\\u90a3\\u80af\\u5b9a\\u662f\\u7cfb\\u7edf\\u6709 bug\\uff0c\\u5982\\u679c\\u4f60\\u53d1\\u73b0\\u4e86\\uff0c\\u8fd8\\u5e0c\\u671b\\u5c3d\\u5feb\\u544a\\u8bc9\\u6211\\u4eec\\u3002\\n\\n![ts-watermask](./figs/guarantee-ts-ts-mask.png)\\n\\n#\",\n",
            "        0.5070041418075562\n",
            "    ]\n",
            "]\n"
          ]
        }
      ],
      "source": [
        "import json\n",
        "\n",
        "retrieved_lines_with_distances = [\n",
        "    (res[\"entity\"][\"text\"], res[\"distance\"]) for res in search_res[0]\n",
        "]\n",
        "print(json.dumps(retrieved_lines_with_distances, indent=4))"
      ]
    },
    {
      "cell_type": "markdown",
      "metadata": {
        "id": "rYD8mtPKA400"
      },
      "source": [
        "## Use LLM to get a RAG response"
      ]
    },
    {
      "cell_type": "code",
      "execution_count": null,
      "metadata": {
        "id": "zxvIinjXAxC2"
      },
      "outputs": [],
      "source": [
        "context = \"\\n\".join(\n",
        "    [line_with_distance[0] for line_with_distance in retrieved_lines_with_distances]\n",
        ")"
      ]
    },
    {
      "cell_type": "code",
      "execution_count": null,
      "metadata": {
        "id": "MP2NuuTrA7sF"
      },
      "outputs": [],
      "source": [
        "SYSTEM_PROMPT = \"\"\"\n",
        "Human: You are an AI assistant. You are able to find answers to the questions from the contextual passage snippets provided.\n",
        "\"\"\"\n",
        "USER_PROMPT = f\"\"\"\n",
        "Use the following pieces of information enclosed in <context> tags to provide an answer to the question enclosed in <question> tags.\n",
        "<context>\n",
        "{context}\n",
        "</context>\n",
        "<question>\n",
        "{question}\n",
        "</question>\n",
        "\"\"\""
      ]
    },
    {
      "cell_type": "code",
      "execution_count": null,
      "metadata": {
        "colab": {
          "base_uri": "https://localhost:8080/"
        },
        "id": "MSbstRPkA9sF",
        "outputId": "0ce499c8-eace-4bad-9d91-89c8808fb7ca"
      },
      "outputs": [
        {
          "name": "stdout",
          "output_type": "stream",
          "text": [
            "Milvus has key features that make it suitable for handling vector databases in AI applications:\n",
            "\n",
            "1. Milvus provides a data model based on schematized relational tables where rows must have primary keys.\n",
            "2. It supports a query language that specifies data definition, data manipulation, and data query, including operations like create, drop, insert, upsert, delete, primary key search, approximate nearest neighbor search (ANNS), and ANNS with predicates.\n",
            "3. Requests' execution order follows their issue-time order, ensuring consistency.\n",
            "4. Milvus guarantees atomic visibility for batch insert/delete operations.\n",
            "5. Milvus implements a clock mechanism using timestamps to maintain consistency in the reading process by marking data with synchronization timestamps.\n"
          ]
        }
      ],
      "source": [
        "response = openai_client.chat.completions.create(\n",
        "    model=\"gpt-3.5-turbo\",\n",
        "    messages=[\n",
        "        {\"role\": \"system\", \"content\": SYSTEM_PROMPT},\n",
        "        {\"role\": \"user\", \"content\": USER_PROMPT},\n",
        "    ],\n",
        ")\n",
        "print(response.choices[0].message.content)"
      ]
    },
    {
      "cell_type": "markdown",
      "metadata": {
        "id": "nbO3pwsscMjg"
      },
      "source": [
        "## Deploying the System"
      ]
    },
    {
      "cell_type": "code",
      "execution_count": null,
      "metadata": {
        "colab": {
          "base_uri": "https://localhost:8080/"
        },
        "collapsed": true,
        "id": "CXta4XjMA_xY",
        "outputId": "43dc97a1-0ab3-43f4-f1b2-bc2e70076937"
      },
      "outputs": [
        {
          "name": "stdout",
          "output_type": "stream",
          "text": [
            "Collecting streamlit\n",
            "  Downloading streamlit-1.38.0-py2.py3-none-any.whl.metadata (8.5 kB)\n",
            "Requirement already satisfied: altair<6,>=4.0 in /usr/local/lib/python3.10/dist-packages (from streamlit) (4.2.2)\n",
            "Requirement already satisfied: blinker<2,>=1.0.0 in /usr/lib/python3/dist-packages (from streamlit) (1.4)\n",
            "Requirement already satisfied: cachetools<6,>=4.0 in /usr/local/lib/python3.10/dist-packages (from streamlit) (5.5.0)\n",
            "Requirement already satisfied: click<9,>=7.0 in /usr/local/lib/python3.10/dist-packages (from streamlit) (8.1.7)\n",
            "Requirement already satisfied: numpy<3,>=1.20 in /usr/local/lib/python3.10/dist-packages (from streamlit) (1.26.4)\n",
            "Requirement already satisfied: packaging<25,>=20 in /usr/local/lib/python3.10/dist-packages (from streamlit) (24.1)\n",
            "Requirement already satisfied: pandas<3,>=1.3.0 in /usr/local/lib/python3.10/dist-packages (from streamlit) (2.1.4)\n",
            "Requirement already satisfied: pillow<11,>=7.1.0 in /usr/local/lib/python3.10/dist-packages (from streamlit) (10.4.0)\n",
            "Requirement already satisfied: protobuf<6,>=3.20 in /usr/local/lib/python3.10/dist-packages (from streamlit) (3.20.3)\n",
            "Requirement already satisfied: pyarrow>=7.0 in /usr/local/lib/python3.10/dist-packages (from streamlit) (14.0.2)\n",
            "Requirement already satisfied: requests<3,>=2.27 in /usr/local/lib/python3.10/dist-packages (from streamlit) (2.32.3)\n",
            "Requirement already satisfied: rich<14,>=10.14.0 in /usr/local/lib/python3.10/dist-packages (from streamlit) (13.8.1)\n",
            "Collecting tenacity<9,>=8.1.0 (from streamlit)\n",
            "  Downloading tenacity-8.5.0-py3-none-any.whl.metadata (1.2 kB)\n",
            "Requirement already satisfied: toml<2,>=0.10.1 in /usr/local/lib/python3.10/dist-packages (from streamlit) (0.10.2)\n",
            "Requirement already satisfied: typing-extensions<5,>=4.3.0 in /usr/local/lib/python3.10/dist-packages (from streamlit) (4.12.2)\n",
            "Collecting gitpython!=3.1.19,<4,>=3.0.7 (from streamlit)\n",
            "  Downloading GitPython-3.1.43-py3-none-any.whl.metadata (13 kB)\n",
            "Collecting pydeck<1,>=0.8.0b4 (from streamlit)\n",
            "  Downloading pydeck-0.9.1-py2.py3-none-any.whl.metadata (4.1 kB)\n",
            "Requirement already satisfied: tornado<7,>=6.0.3 in /usr/local/lib/python3.10/dist-packages (from streamlit) (6.3.3)\n",
            "Collecting watchdog<5,>=2.1.5 (from streamlit)\n",
            "  Downloading watchdog-4.0.2-py3-none-manylinux2014_x86_64.whl.metadata (38 kB)\n",
            "Requirement already satisfied: entrypoints in /usr/local/lib/python3.10/dist-packages (from altair<6,>=4.0->streamlit) (0.4)\n",
            "Requirement already satisfied: jinja2 in /usr/local/lib/python3.10/dist-packages (from altair<6,>=4.0->streamlit) (3.1.4)\n",
            "Requirement already satisfied: jsonschema>=3.0 in /usr/local/lib/python3.10/dist-packages (from altair<6,>=4.0->streamlit) (4.23.0)\n",
            "Requirement already satisfied: toolz in /usr/local/lib/python3.10/dist-packages (from altair<6,>=4.0->streamlit) (0.12.1)\n",
            "Collecting gitdb<5,>=4.0.1 (from gitpython!=3.1.19,<4,>=3.0.7->streamlit)\n",
            "  Downloading gitdb-4.0.11-py3-none-any.whl.metadata (1.2 kB)\n",
            "Requirement already satisfied: python-dateutil>=2.8.2 in /usr/local/lib/python3.10/dist-packages (from pandas<3,>=1.3.0->streamlit) (2.8.2)\n",
            "Requirement already satisfied: pytz>=2020.1 in /usr/local/lib/python3.10/dist-packages (from pandas<3,>=1.3.0->streamlit) (2024.2)\n",
            "Requirement already satisfied: tzdata>=2022.1 in /usr/local/lib/python3.10/dist-packages (from pandas<3,>=1.3.0->streamlit) (2024.1)\n",
            "Requirement already satisfied: charset-normalizer<4,>=2 in /usr/local/lib/python3.10/dist-packages (from requests<3,>=2.27->streamlit) (3.3.2)\n",
            "Requirement already satisfied: idna<4,>=2.5 in /usr/local/lib/python3.10/dist-packages (from requests<3,>=2.27->streamlit) (3.10)\n",
            "Requirement already satisfied: urllib3<3,>=1.21.1 in /usr/local/lib/python3.10/dist-packages (from requests<3,>=2.27->streamlit) (2.2.3)\n",
            "Requirement already satisfied: certifi>=2017.4.17 in /usr/local/lib/python3.10/dist-packages (from requests<3,>=2.27->streamlit) (2024.8.30)\n",
            "Requirement already satisfied: markdown-it-py>=2.2.0 in /usr/local/lib/python3.10/dist-packages (from rich<14,>=10.14.0->streamlit) (3.0.0)\n",
            "Requirement already satisfied: pygments<3.0.0,>=2.13.0 in /usr/local/lib/python3.10/dist-packages (from rich<14,>=10.14.0->streamlit) (2.18.0)\n",
            "Collecting smmap<6,>=3.0.1 (from gitdb<5,>=4.0.1->gitpython!=3.1.19,<4,>=3.0.7->streamlit)\n",
            "  Downloading smmap-5.0.1-py3-none-any.whl.metadata (4.3 kB)\n",
            "Requirement already satisfied: MarkupSafe>=2.0 in /usr/local/lib/python3.10/dist-packages (from jinja2->altair<6,>=4.0->streamlit) (2.1.5)\n",
            "Requirement already satisfied: attrs>=22.2.0 in /usr/local/lib/python3.10/dist-packages (from jsonschema>=3.0->altair<6,>=4.0->streamlit) (24.2.0)\n",
            "Requirement already satisfied: jsonschema-specifications>=2023.03.6 in /usr/local/lib/python3.10/dist-packages (from jsonschema>=3.0->altair<6,>=4.0->streamlit) (2023.12.1)\n",
            "Requirement already satisfied: referencing>=0.28.4 in /usr/local/lib/python3.10/dist-packages (from jsonschema>=3.0->altair<6,>=4.0->streamlit) (0.35.1)\n",
            "Requirement already satisfied: rpds-py>=0.7.1 in /usr/local/lib/python3.10/dist-packages (from jsonschema>=3.0->altair<6,>=4.0->streamlit) (0.20.0)\n",
            "Requirement already satisfied: mdurl~=0.1 in /usr/local/lib/python3.10/dist-packages (from markdown-it-py>=2.2.0->rich<14,>=10.14.0->streamlit) (0.1.2)\n",
            "Requirement already satisfied: six>=1.5 in /usr/local/lib/python3.10/dist-packages (from python-dateutil>=2.8.2->pandas<3,>=1.3.0->streamlit) (1.16.0)\n",
            "Downloading streamlit-1.38.0-py2.py3-none-any.whl (8.7 MB)\n",
            "\u001b[2K   \u001b[90m━━━━━━━━━━━━━━━━━━━━━━━━━━━━━━━━━━━━━━━━\u001b[0m \u001b[32m8.7/8.7 MB\u001b[0m \u001b[31m65.5 MB/s\u001b[0m eta \u001b[36m0:00:00\u001b[0m\n",
            "\u001b[?25hDownloading GitPython-3.1.43-py3-none-any.whl (207 kB)\n",
            "\u001b[2K   \u001b[90m━━━━━━━━━━━━━━━━━━━━━━━━━━━━━━━━━━━━━━━━\u001b[0m \u001b[32m207.3/207.3 kB\u001b[0m \u001b[31m14.2 MB/s\u001b[0m eta \u001b[36m0:00:00\u001b[0m\n",
            "\u001b[?25hDownloading pydeck-0.9.1-py2.py3-none-any.whl (6.9 MB)\n",
            "\u001b[2K   \u001b[90m━━━━━━━━━━━━━━━━━━━━━━━━━━━━━━━━━━━━━━━━\u001b[0m \u001b[32m6.9/6.9 MB\u001b[0m \u001b[31m86.7 MB/s\u001b[0m eta \u001b[36m0:00:00\u001b[0m\n",
            "\u001b[?25hDownloading tenacity-8.5.0-py3-none-any.whl (28 kB)\n",
            "Downloading watchdog-4.0.2-py3-none-manylinux2014_x86_64.whl (82 kB)\n",
            "\u001b[2K   \u001b[90m━━━━━━━━━━━━━━━━━━━━━━━━━━━━━━━━━━━━━━━━\u001b[0m \u001b[32m82.9/82.9 kB\u001b[0m \u001b[31m6.3 MB/s\u001b[0m eta \u001b[36m0:00:00\u001b[0m\n",
            "\u001b[?25hDownloading gitdb-4.0.11-py3-none-any.whl (62 kB)\n",
            "\u001b[2K   \u001b[90m━━━━━━━━━━━━━━━━━━━━━━━━━━━━━━━━━━━━━━━━\u001b[0m \u001b[32m62.7/62.7 kB\u001b[0m \u001b[31m4.3 MB/s\u001b[0m eta \u001b[36m0:00:00\u001b[0m\n",
            "\u001b[?25hDownloading smmap-5.0.1-py3-none-any.whl (24 kB)\n",
            "Installing collected packages: watchdog, tenacity, smmap, pydeck, gitdb, gitpython, streamlit\n",
            "  Attempting uninstall: tenacity\n",
            "    Found existing installation: tenacity 9.0.0\n",
            "    Uninstalling tenacity-9.0.0:\n",
            "      Successfully uninstalled tenacity-9.0.0\n",
            "Successfully installed gitdb-4.0.11 gitpython-3.1.43 pydeck-0.9.1 smmap-5.0.1 streamlit-1.38.0 tenacity-8.5.0 watchdog-4.0.2\n",
            "Requirement already satisfied: pymilvus in /usr/local/lib/python3.10/dist-packages (2.4.7)\n",
            "Requirement already satisfied: setuptools>69 in /usr/local/lib/python3.10/dist-packages (from pymilvus) (71.0.4)\n",
            "Requirement already satisfied: grpcio>=1.49.1 in /usr/local/lib/python3.10/dist-packages (from pymilvus) (1.64.1)\n",
            "Requirement already satisfied: protobuf>=3.20.0 in /usr/local/lib/python3.10/dist-packages (from pymilvus) (3.20.3)\n",
            "Requirement already satisfied: environs<=9.5.0 in /usr/local/lib/python3.10/dist-packages (from pymilvus) (9.5.0)\n",
            "Requirement already satisfied: ujson>=2.0.0 in /usr/local/lib/python3.10/dist-packages (from pymilvus) (5.10.0)\n",
            "Requirement already satisfied: pandas>=1.2.4 in /usr/local/lib/python3.10/dist-packages (from pymilvus) (2.1.4)\n",
            "Requirement already satisfied: milvus-lite<2.5.0,>=2.4.0 in /usr/local/lib/python3.10/dist-packages (from pymilvus) (2.4.10)\n",
            "Requirement already satisfied: marshmallow>=3.0.0 in /usr/local/lib/python3.10/dist-packages (from environs<=9.5.0->pymilvus) (3.22.0)\n",
            "Requirement already satisfied: python-dotenv in /usr/local/lib/python3.10/dist-packages (from environs<=9.5.0->pymilvus) (1.0.1)\n",
            "Requirement already satisfied: tqdm in /usr/local/lib/python3.10/dist-packages (from milvus-lite<2.5.0,>=2.4.0->pymilvus) (4.66.5)\n",
            "Requirement already satisfied: numpy<2,>=1.22.4 in /usr/local/lib/python3.10/dist-packages (from pandas>=1.2.4->pymilvus) (1.26.4)\n",
            "Requirement already satisfied: python-dateutil>=2.8.2 in /usr/local/lib/python3.10/dist-packages (from pandas>=1.2.4->pymilvus) (2.8.2)\n",
            "Requirement already satisfied: pytz>=2020.1 in /usr/local/lib/python3.10/dist-packages (from pandas>=1.2.4->pymilvus) (2024.2)\n",
            "Requirement already satisfied: tzdata>=2022.1 in /usr/local/lib/python3.10/dist-packages (from pandas>=1.2.4->pymilvus) (2024.1)\n",
            "Requirement already satisfied: packaging>=17.0 in /usr/local/lib/python3.10/dist-packages (from marshmallow>=3.0.0->environs<=9.5.0->pymilvus) (24.1)\n",
            "Requirement already satisfied: six>=1.5 in /usr/local/lib/python3.10/dist-packages (from python-dateutil>=2.8.2->pandas>=1.2.4->pymilvus) (1.16.0)\n"
          ]
        }
      ],
      "source": [
        "!pip install streamlit\n",
        "!pip install pymilvus"
      ]
    },
    {
      "cell_type": "code",
      "execution_count": null,
      "metadata": {
        "id": "e8oDBAGDZKC-"
      },
      "outputs": [],
      "source": []
    }
  ],
  "metadata": {
    "colab": {
      "provenance": []
    },
    "kernelspec": {
      "display_name": "Python 3",
      "name": "python3"
    },
    "language_info": {
      "name": "python"
    }
  },
  "nbformat": 4,
  "nbformat_minor": 0
}
